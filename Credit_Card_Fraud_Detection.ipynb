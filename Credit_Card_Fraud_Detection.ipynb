{
  "cells": [
    {
      "cell_type": "markdown",
      "id": "3bb5ae5d",
      "metadata": {
        "id": "3bb5ae5d"
      },
      "source": [
        "# Credit Card Fraud Detection"
      ]
    },
    {
      "cell_type": "markdown",
      "id": "d3e4ec64",
      "metadata": {
        "id": "d3e4ec64"
      },
      "source": [
        "### Importing Libraries"
      ]
    },
    {
      "cell_type": "code",
      "execution_count": 3,
      "id": "592275fa",
      "metadata": {
        "id": "592275fa"
      },
      "outputs": [],
      "source": [
        "import pandas as pd\n",
        "import numpy as np\n",
        "import matplotlib.pyplot as plt\n",
        "import seaborn as sns\n",
        "from sklearn.metrics import classification_report, accuracy_score, precision_recall_curve, roc_auc_score, confusion_matrix\n",
        "from sklearn.model_selection import train_test_split\n",
        "from sklearn.ensemble import IsolationForest\n",
        "from sklearn.svm import OneClassSVM\n",
        "from imblearn.over_sampling import SMOTE\n",
        "from pycaret.classification import *"
      ]
    },
    {
      "cell_type": "markdown",
      "id": "9c1b564a",
      "metadata": {
        "id": "9c1b564a"
      },
      "source": [
        "### Importing Libraries for Outlier Detection"
      ]
    },
    {
      "cell_type": "code",
      "execution_count": null,
      "id": "c8cba5c6",
      "metadata": {
        "id": "c8cba5c6"
      },
      "outputs": [],
      "source": [
        "from sklearn.ensemble import IsolationForest\n",
        "\n",
        "from sklearn.svm import OneClassSVM"
      ]
    },
    {
      "cell_type": "markdown",
      "id": "8232cdf8",
      "metadata": {
        "id": "8232cdf8"
      },
      "source": [
        "### Reading our Dataset"
      ]
    },
    {
      "cell_type": "code",
      "execution_count": 8,
      "id": "imfvXaTenlE8",
      "metadata": {
        "id": "imfvXaTenlE8"
      },
      "outputs": [],
      "source": [
        "from google.colab import drive\n",
        "drive.mount('/content/drive')"
      ]
    },
    {
      "cell_type": "code",
      "execution_count": 9,
      "id": "5c307c8e",
      "metadata": {
        "id": "5c307c8e"
      },
      "outputs": [],
      "source": [
        "df= pd.read_csv(\"/content/drive/Zahid/creditcard.csv\")"
      ]
    },
    {
      "cell_type": "code",
      "execution_count": 10,
      "id": "b3d444d6",
      "metadata": {
        "id": "b3d444d6"
      },
      "outputs": [],
      "source": [
        "df.head()"
      ]
    },
    {
      "cell_type": "markdown",
      "id": "01c696d5",
      "metadata": {
        "id": "01c696d5"
      },
      "source": [
        "### Data Analysis"
      ]
    },
    {
      "cell_type": "code",
      "execution_count": 11,
      "id": "93bcfc8f",
      "metadata": {
        "id": "93bcfc8f"
      },
      "outputs": [],
      "source": [
        "df.shape"
      ]
    },
    {
      "cell_type": "markdown",
      "id": "ad4880ea",
      "metadata": {
        "id": "ad4880ea"
      },
      "source": [
        "#### Checking Null Values"
      ]
    },
    {
      "cell_type": "code",
      "execution_count": 12,
      "id": "be1523d3",
      "metadata": {
        "id": "be1523d3"
      },
      "outputs": [],
      "source": [
        "df.isnull().sum()"
      ]
    },
    {
      "cell_type": "markdown",
      "id": "d90a6e15",
      "metadata": {
        "id": "d90a6e15"
      },
      "source": [
        "### Checking the distribution of Normal and Fraud cases in our Data Set"
      ]
    },
    {
      "cell_type": "code",
      "execution_count": 14,
      "id": "d7eb9612",
      "metadata": {
        "id": "d7eb9612"
      },
      "outputs": [],
      "source": [
        "fraud_check = pd.value_counts(df['Class'], sort = True)\n",
        "fraud_check.plot(kind = 'bar', rot=0, color= 'r')\n",
        "plt.title(\"Normal and Fraud Distribution\")\n",
        "plt.xlabel(\"Class\")\n",
        "plt.ylabel(\"Frequency\")\n",
        " ## Defining labels to replace our 0 and 1 valuelabels= ['Normal','Fraud']\n",
        "## mapping those labels\n",
        "plt.xticks(range(2), labels)\n",
        "plt.show()"
      ]
    },
    {
      "cell_type": "markdown",
      "id": "ca1acce0",
      "metadata": {
        "id": "ca1acce0"
      },
      "source": [
        "\n",
        "#### Let us see what is the shape of Normal and Fraud data set"
      ]
    },
    {
      "cell_type": "code",
      "execution_count": 15,
      "id": "fc7b7b47",
      "metadata": {
        "id": "fc7b7b47"
      },
      "outputs": [],
      "source": [
        "fraud_people = df[df['Class']==1]\n",
        "normal_people = df[df['Class']==0]"
      ]
    },
    {
      "cell_type": "code",
      "execution_count": 16,
      "id": "769ac986",
      "metadata": {
        "id": "769ac986"
      },
      "outputs": [],
      "source": [
        "fraud_people.shape"
      ]
    },
    {
      "cell_type": "code",
      "execution_count": 17,
      "id": "6d6b731e",
      "metadata": {
        "id": "6d6b731e"
      },
      "outputs": [],
      "source": [
        "normal_people.shape"
      ]
    },
    {
      "cell_type": "markdown",
      "id": "e934828b",
      "metadata": {
        "id": "e934828b"
      },
      "source": [
        "#### Finding out the avg amount in our both the data sets"
      ]
    },
    {
      "cell_type": "code",
      "execution_count": 18,
      "id": "22354693",
      "metadata": {
        "id": "22354693"
      },
      "outputs": [],
      "source": [
        "fraud_people['Amount'].describe()"
      ]
    },
    {
      "cell_type": "code",
      "execution_count": 19,
      "id": "56718e5c",
      "metadata": {
        "id": "56718e5c"
      },
      "outputs": [],
      "source": [
        "normal_people['Amount'].describe()"
      ]
    },
    {
      "cell_type": "markdown",
      "id": "408950d4",
      "metadata": {
        "id": "408950d4"
      },
      "source": [
        "#### Let us analyse it visually"
      ]
    },
    {
      "cell_type": "code",
      "execution_count": 21,
      "id": "f7923628",
      "metadata": {
        "id": "f7923628"
      },
      "outputs": [],
      "source": [
        "graph, (plot1, plot2) = plt.subplots(2,1,sharex= True)\n",
        "graph.suptitle('Average amount per class')\n",
        "bins = 70\n",
        "\n",
        "plot1.hist(fraud_people['Amount'] , bins = bins)\n",
        "plot1.set_title('Fraud Amount')\n",
        "\n",
        "plot2.hist(normal_people['Amount'] , bins = bins)\n",
        "plot2.set_title('Normal Amount')\n",
        "\n",
        "plt.xlabel('Amount ($)')\n",
        "plt.ylabel('Number of Transactions')\n",
        "plt.yscale('log')\n",
        "plt.show();"
      ]
    },
    {
      "cell_type": "markdown",
      "id": "ee9fe263",
      "metadata": {
        "id": "ee9fe263"
      },
      "source": [
        "#### Plotting a corr Heatmap"
      ]
    },
    {
      "cell_type": "code",
      "execution_count": 22,
      "id": "345ec37b",
      "metadata": {
        "id": "345ec37b"
      },
      "outputs": [],
      "source": [
        "df.corr()\n",
        "plt.figure(figsize=(30,30))\n",
        "g=sns.heatmap(df.corr(),annot=True)"
      ]
    },
    {
      "cell_type": "markdown",
      "id": "d02237e8",
      "metadata": {
        "id": "d02237e8"
      },
      "source": [
        "### Creating our Dependent and Independent Features"
      ]
    },
    {
      "cell_type": "code",
      "execution_count": 23,
      "id": "fb9b800f",
      "metadata": {
        "id": "fb9b800f"
      },
      "outputs": [],
      "source": [
        "columns = df.columns.tolist()\n",
        "# Making our Independent Features\n",
        "columns = [var for var in columns if var not in [\"Class\"]]\n",
        "# Making our Dependent Variable\n",
        "target = \"Class\"\n",
        "x= df[columns]\n",
        "y= df[target]"
      ]
    },
    {
      "cell_type": "code",
      "execution_count": 24,
      "id": "afc88598",
      "metadata": {
        "id": "afc88598"
      },
      "outputs": [],
      "source": [
        "x.shape"
      ]
    },
    {
      "cell_type": "code",
      "execution_count": 25,
      "id": "80dd67f5",
      "metadata": {
        "id": "80dd67f5"
      },
      "outputs": [],
      "source": [
        "y.shape"
      ]
    },
    {
      "cell_type": "code",
      "execution_count": 26,
      "id": "a9c4429c",
      "metadata": {
        "id": "a9c4429c"
      },
      "outputs": [],
      "source": [
        "x.head() ## Independent Variable"
      ]
    },
    {
      "cell_type": "code",
      "execution_count": 27,
      "id": "8c881ee6",
      "metadata": {
        "id": "8c881ee6"
      },
      "outputs": [],
      "source": [
        "y.head() ## Dependent Variable"
      ]
    },
    {
      "cell_type": "markdown",
      "id": "cd8ae374",
      "metadata": {
        "id": "cd8ae374"
      },
      "source": [
        "## Model building"
      ]
    },
    {
      "cell_type": "markdown",
      "id": "a4c50a65",
      "metadata": {
        "id": "a4c50a65"
      },
      "source": [
        "### Splitting the data"
      ]
    },
    {
      "cell_type": "code",
      "execution_count": 28,
      "id": "87f451aa",
      "metadata": {
        "id": "87f451aa"
      },
      "outputs": [],
      "source": [
        "from sklearn.model_selection import train_test_split\n",
        "x_train, x_test, y_train, y_test = train_test_split(x, y, test_size=0.30, random_state=42)"
      ]
    },
    {
      "cell_type": "code",
      "execution_count": 29,
      "id": "70fdcc4c",
      "metadata": {
        "id": "70fdcc4c"
      },
      "outputs": [],
      "source": [
        "iso_forest= IsolationForest(n_estimators=100, max_samples=len(x_train),random_state=0, verbose=0)                        "
      ]
    },
    {
      "cell_type": "code",
      "execution_count": 30,
      "id": "58785d19",
      "metadata": {
        "id": "58785d19"
      },
      "outputs": [],
      "source": [
        "iso_forest.fit(x_train,y_train)"
      ]
    },
    {
      "cell_type": "code",
      "execution_count": 31,
      "id": "bcdb7fda",
      "metadata": {
        "id": "bcdb7fda"
      },
      "outputs": [],
      "source": [
        "ypred= iso_forest.predict(x_test)"
      ]
    },
    {
      "cell_type": "code",
      "execution_count": 32,
      "id": "5e0a2718",
      "metadata": {
        "id": "5e0a2718"
      },
      "outputs": [],
      "source": [
        "ypred"
      ]
    },
    {
      "cell_type": "markdown",
      "id": "c3eace63",
      "metadata": {
        "id": "c3eace63"
      },
      "source": [
        "#### Mapping the values as we want to have an output in 0 and 1"
      ]
    },
    {
      "cell_type": "code",
      "execution_count": 33,
      "id": "273afab3",
      "metadata": {
        "id": "273afab3"
      },
      "outputs": [],
      "source": [
        "ypred[ypred == 1] = 0\n",
        "ypred[ypred == -1] = 1\n"
      ]
    },
    {
      "cell_type": "markdown",
      "id": "29473b72",
      "metadata": {
        "id": "29473b72"
      },
      "source": [
        "### Accuracy score and Matrix"
      ]
    },
    {
      "cell_type": "code",
      "execution_count": 34,
      "id": "a07329db",
      "metadata": {
        "id": "a07329db"
      },
      "outputs": [],
      "source": [
        "print(accuracy_score(y_test,ypred))"
      ]
    },
    {
      "cell_type": "code",
      "execution_count": 35,
      "id": "7d333120",
      "metadata": {
        "id": "7d333120"
      },
      "outputs": [],
      "source": [
        "print(classification_report(y_test,ypred))"
      ]
    },
    {
      "cell_type": "code",
      "execution_count": 36,
      "id": "29d8b1e9",
      "metadata": {
        "id": "29d8b1e9"
      },
      "outputs": [],
      "source": [
        "from sklearn.metrics import confusion_matrix"
      ]
    },
    {
      "cell_type": "code",
      "execution_count": 37,
      "id": "975e1a4b",
      "metadata": {
        "id": "975e1a4b"
      },
      "outputs": [],
      "source": [
        "confusion_matrix(y_test, ypred)"
      ]
    },
    {
      "cell_type": "markdown",
      "id": "035f32f0",
      "metadata": {
        "id": "035f32f0"
      },
      "source": [
        "### We can also print how many errors our model have"
      ]
    },
    {
      "cell_type": "code",
      "execution_count": 38,
      "id": "79724950",
      "metadata": {
        "id": "79724950"
      },
      "outputs": [],
      "source": [
        "n_errors = (ypred != y_test).sum()\n",
        "print(\"Isolation Forest have {} errors.\".format(n_errors))"
      ]
    },
    {
      "cell_type": "markdown",
      "id": "6adf383e",
      "metadata": {
        "id": "6adf383e"
      },
      "source": [
        "## OneClassSVM"
      ]
    },
    {
      "cell_type": "code",
      "execution_count": 40,
      "id": "e57b53b6",
      "metadata": {
        "id": "e57b53b6"
      },
      "outputs": [],
      "source": [
        "svm= OneClassSVM(kernel='rbf', degree=3, gamma=0.1,nu=0.05, \n",
        "                                         #max_iter=-1)"
      ]
    },
    {
      "cell_type": "code",
      "execution_count": 41,
      "id": "d1b032a7",
      "metadata": {
        "id": "d1b032a7"
      },
      "outputs": [],
      "source": [
        "svm.fit(x_train,y_train)"
      ]
    },
    {
      "cell_type": "code",
      "execution_count": 42,
      "id": "f4cba412",
      "metadata": {
        "id": "f4cba412"
      },
      "outputs": [],
      "source": [
        "ypred1= svm.predict(x_test)"
      ]
    },
    {
      "cell_type": "markdown",
      "id": "ed1c5697",
      "metadata": {
        "id": "ed1c5697"
      },
      "source": [
        "#### Here also we do the same thing as above, mapping our results in 0 and 1"
      ]
    },
    {
      "cell_type": "code",
      "execution_count": 43,
      "id": "29d12ee8",
      "metadata": {
        "id": "29d12ee8"
      },
      "outputs": [],
      "source": [
        "ypred1[ypred1 == 1] = 0\n",
        "ypred1[ypred1 == -1] = 1"
      ]
    },
    {
      "cell_type": "markdown",
      "id": "bfc1976e",
      "metadata": {
        "id": "bfc1976e"
      },
      "source": [
        "### Accuracy score and Matrix"
      ]
    },
    {
      "cell_type": "code",
      "execution_count": 44,
      "id": "f4f2f520",
      "metadata": {
        "id": "f4f2f520"
      },
      "outputs": [],
      "source": [
        "print(accuracy_score(y_test,ypred))"
      ]
    },
    {
      "cell_type": "code",
      "execution_count": 45,
      "id": "1959886f",
      "metadata": {
        "id": "1959886f"
      },
      "outputs": [],
      "source": [
        "print(classification_report(y_test,ypred))"
      ]
    },
    {
      "cell_type": "code",
      "execution_count": 46,
      "id": "555db07a",
      "metadata": {
        "id": "555db07a"
      },
      "outputs": [],
      "source": [
        "from sklearn.metrics import confusion_matrix"
      ]
    },
    {
      "cell_type": "code",
      "execution_count": 47,
      "id": "3bbf370a",
      "metadata": {
        "id": "3bbf370a"
      },
      "outputs": [],
      "source": [
        "confusion_matrix(y_test, ypred)"
      ]
    },
    {
      "cell_type": "code",
      "execution_count": 49,
      "id": "0ce625ae",
      "metadata": {
        "id": "0ce625ae"
      },
      "outputs": [],
      "source": [
        "n_errors = (ypred1 != y_test).sum()\n",
        "print(\"SVM have {} errors.\".format(n_errors))"
      ]
    },
    {
      "cell_type": "markdown",
      "id": "0cedbd02",
      "metadata": {
        "id": "0cedbd02"
      },
      "source": [
        "## Solving the Problem Statement using PyCaret Library(Auto ML)"
      ]
    },
    {
      "cell_type": "markdown",
      "id": "883d094b",
      "metadata": {
        "id": "883d094b"
      },
      "source": [
        "### Installing Pycaret"
      ]
    },
    {
      "cell_type": "code",
      "execution_count": 50,
      "id": "a35b9f64",
      "metadata": {
        "id": "a35b9f64"
      },
      "outputs": [],
      "source": [
        "!pip install pycaret"
      ]
    },
    {
      "cell_type": "code",
      "execution_count": 51,
      "id": "10b9cace",
      "metadata": {
        "id": "10b9cace"
      },
      "outputs": [],
      "source": [
        "df= pd.read_csv(\"creditcard.csv\")"
      ]
    },
    {
      "cell_type": "code",
      "execution_count": 52,
      "id": "bccf3855",
      "metadata": {
        "id": "bccf3855"
      },
      "outputs": [],
      "source": [
        "df.head()"
      ]
    },
    {
      "cell_type": "code",
      "execution_count": 53,
      "id": "859c4837",
      "metadata": {
        "id": "859c4837"
      },
      "outputs": [],
      "source": [
        "from pycaret.classification import *"
      ]
    },
    {
      "cell_type": "code",
      "execution_count": 54,
      "id": "3de8e738",
      "metadata": {
        "id": "3de8e738"
      },
      "outputs": [],
      "source": [
        "model= setup(data= df, target= 'Class')"
      ]
    },
    {
      "cell_type": "code",
      "execution_count": 55,
      "id": "f81cc748",
      "metadata": {
        "id": "f81cc748"
      },
      "outputs": [],
      "source": [
        "compare_models()"
      ]
    },
    {
      "cell_type": "code",
      "execution_count": 56,
      "id": "3ac8cb8c",
      "metadata": {
        "id": "3ac8cb8c"
      },
      "outputs": [],
      "source": [
        "random_forest= create_model('rf')"
      ]
    },
    {
      "cell_type": "code",
      "execution_count": 57,
      "id": "daa84895",
      "metadata": {
        "id": "daa84895"
      },
      "outputs": [],
      "source": [
        "random_forest"
      ]
    },
    {
      "cell_type": "markdown",
      "id": "49eb360f",
      "metadata": {
        "id": "49eb360f"
      },
      "source": [
        "### We can Hypertune our model to"
      ]
    },
    {
      "cell_type": "code",
      "execution_count": 58,
      "id": "b8ae8f50",
      "metadata": {
        "id": "b8ae8f50"
      },
      "outputs": [],
      "source": [
        "tuned_model= tune_model('random_forest')"
      ]
    },
    {
      "cell_type": "markdown",
      "id": "2351b233",
      "metadata": {
        "id": "2351b233"
      },
      "source": [
        "## Predictions"
      ]
    },
    {
      "cell_type": "code",
      "execution_count": 59,
      "id": "47397b43",
      "metadata": {
        "id": "47397b43"
      },
      "outputs": [],
      "source": [
        "pred_holdout = predict_model(random_forest,data= x_test)"
      ]
    },
    {
      "cell_type": "code",
      "execution_count": 60,
      "id": "49e4d2f0",
      "metadata": {
        "id": "49e4d2f0"
      },
      "outputs": [],
      "source": [
        "pred_holdout"
      ]
    },
    {
      "cell_type": "code",
      "execution_count": null,
      "id": "5e84be22",
      "metadata": {
        "id": "5e84be22"
      },
      "outputs": [],
      "source": []
    }
  ],
  "metadata": {
    "colab": {
      "collapsed_sections": [
        "cd3c7275",
        "14f50476"
      ],
      "name": "Credit Card Fraud Detection.ipynb",
      "provenance": []
    },
    "kernelspec": {
      "display_name": "Python 3",
      "language": "python",
      "name": "python3"
    },
    "language_info": {
      "codemirror_mode": {
        "name": "ipython",
        "version": 3
      },
      "file_extension": ".py",
      "mimetype": "text/x-python",
      "name": "python",
      "nbconvert_exporter": "python",
      "pygments_lexer": "ipython3",
      "version": "3.8.8"
    }
  },
  "nbformat": 4,
  "nbformat_minor": 5
}
